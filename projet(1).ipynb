{
 "cells": [
  {
   "cell_type": "markdown",
   "metadata": {},
   "source": [
    "######TP2: Classification Bayésienne######"
   ]
  },
  {
   "cell_type": "code",
   "execution_count": 1,
   "metadata": {},
   "outputs": [],
   "source": [
    "import numpy as np\n",
    "import matplotlib.pyplot as plt\n",
    "import seaborn as sns\n",
    "from scipy.stats import norm\n",
    "from sklearn.model_selection import train_test_split\n",
    "from sklearn.metrics import accuracy_score"
   ]
  },
  {
   "cell_type": "code",
   "execution_count": 4,
   "metadata": {},
   "outputs": [
    {
     "name": "stdout",
     "output_type": "stream",
     "text": [
      "[-2.03101012 -0.91751169 -1.94111658 ... -1.41147648 -0.72026796\n",
      " -4.25314119]\n",
      "[0.64438885 2.63376741 1.48855297 ... 4.72659864 3.18936171 1.34738945]\n",
      "X1 mean:  -1.9896144904073445\n",
      "X1 std:  1.0027955343402486\n",
      "X2 mean:  1.9912819288084092\n",
      "X2 std:  0.9958179035135496\n"
     ]
    }
   ],
   "source": [
    "#question 1\n",
    "m1=-2\n",
    "s1=1\n",
    "m2=2\n",
    "s2=1 \n",
    "\n",
    "X1 = np.random.normal(m1, s1, 10000)\n",
    "X2 = np.random.normal(m2, s2, 20000)\n",
    "print(X1)\n",
    "print(X2)\n",
    "print(\"X1 mean: \", np.mean(X1))\n",
    "print(\"X1 std: \", np.std(X1))\n",
    "print(\"X2 mean: \", np.mean(X2))\n",
    "print(\"X2 std: \", np.std(X2))\n"
   ]
  },
  {
   "cell_type": "code",
   "execution_count": 5,
   "metadata": {},
   "outputs": [
    {
     "name": "stdout",
     "output_type": "stream",
     "text": [
      "[-2.03101012 -0.91751169 -1.94111658 ...  4.72659864  3.18936171\n",
      "  1.34738945]\n",
      "[0. 0. 0. ... 1. 1. 1.]\n"
     ]
    }
   ],
   "source": [
    "# Assignation des labels\n",
    "Y1 = np.zeros(10000)  # Classe 0 pour X1\n",
    "Y2 = np.ones(20000)   # Classe 1 pour X2\n",
    "\n",
    "# Fusion des données\n",
    "X = np.concatenate([X1, X2])\n",
    "Y = np.concatenate([Y1, Y2])\n",
    "print(X)\n",
    "print(Y)\n"
   ]
  },
  {
   "cell_type": "code",
   "execution_count": 6,
   "metadata": {},
   "outputs": [
    {
     "name": "stdout",
     "output_type": "stream",
     "text": [
      "[ 1.19645883 -2.52017014  2.8231928  ... -1.98945454  0.5990845\n",
      " -0.69103849]\n",
      "[-1.28633883  3.10095715  3.51071265 ... -2.05421542  3.44045037\n",
      " -1.21591324]\n",
      "[1. 0. 1. ... 0. 1. 1.]\n",
      "[0. 1. 1. ... 0. 1. 0.]\n"
     ]
    }
   ],
   "source": [
    "X_train, X_test, Y_train, Y_test = train_test_split(X, Y, test_size=0.5, random_state=42)\n",
    "print(X_train)\n",
    "print(X_test)\n",
    "print(Y_train)\n",
    "print(Y_test)"
   ]
  },
  {
   "cell_type": "code",
   "execution_count": 7,
   "metadata": {},
   "outputs": [
    {
     "name": "stdout",
     "output_type": "stream",
     "text": [
      "-1.9855773513214805\n",
      "0.9954677995684752\n",
      "1.9731991566521208\n",
      "1.0025906882700713\n"
     ]
    }
   ],
   "source": [
    "#question 2/A\n",
    "mu1_hat= np.mean(X_train[Y_train == 0])\n",
    "sigma1_hat = np.std(X_train[Y_train == 0])\n",
    "mu2_hat=np.mean(X_train[Y_train == 1])\n",
    "sigma2_hat =  np.std(X_train[Y_train == 1])\n",
    "print(mu1_hat)\n",
    "print(sigma1_hat)\n",
    "print(mu2_hat)\n",
    "print(sigma2_hat)"
   ]
  },
  {
   "cell_type": "code",
   "execution_count": 8,
   "metadata": {},
   "outputs": [
    {
     "name": "stdout",
     "output_type": "stream",
     "text": [
      "0.33186666666666664\n",
      "0.6681333333333334\n"
     ]
    }
   ],
   "source": [
    "#question 2/B\n",
    "p_y0 = np.mean(Y_train == 0)\n",
    "p_y1 = np.mean(Y_train == 1)\n",
    "print(p_y0)\n",
    "print(p_y1)"
   ]
  },
  {
   "cell_type": "code",
   "execution_count": 10,
   "metadata": {},
   "outputs": [
    {
     "name": "stdout",
     "output_type": "stream",
     "text": [
      "[0 1 1 ... 0 1 0]\n",
      "(15000,)\n"
     ]
    }
   ],
   "source": [
    "#question 2/C\n",
    "def bayes_classifier(x):\n",
    "    p_x_y0 = norm.pdf(x, mu1_hat, sigma1_hat)\n",
    "    p_x_y1 = norm.pdf(x, mu2_hat, sigma2_hat)\n",
    "    \n",
    "    p_y0_x = p_x_y0 * p_y0\n",
    "    p_y1_x = p_x_y1 * p_y1\n",
    "    \n",
    "    return 1 if p_y1_x > p_y0_x else 0\n",
    "\n",
    "# Prédiction sur les données de test\n",
    "Y_pred = np.array([bayes_classifier(x) for x in X_test])\n",
    "print(Y_pred)\n",
    "print(Y_pred.shape)"
   ]
  },
  {
   "cell_type": "code",
   "execution_count": null,
   "metadata": {},
   "outputs": [
    {
     "name": "stdout",
     "output_type": "stream",
     "text": [
      "Précision du classifieur de Bayes :  0.9798\n"
     ]
    }
   ],
   "source": [
    "# Calcul de la précision\n",
    "accuracy = accuracy_score(Y_test, Y_pred)\n",
    "print(\"Précision du classifieur de Bayes : \", accuracy)"
   ]
  },
  {
   "cell_type": "code",
   "execution_count": null,
   "metadata": {},
   "outputs": [
    {
     "name": "stdout",
     "output_type": "stream",
     "text": [
      "[1 1 1 1 0 1 1 1 1 0 1 0 1 1 1 1 0 1 1 0 1 0 0 1 0 0 0 0 1 1 0 0 1 0 0 0 1\n",
      " 1 1 0 1 1 0 1 0 1 1 1 0 1 1 1 0 1 0 0 1 0 0 1 1 0 1 0 1 1 1 1 0 1 0 0 1 1\n",
      " 0 0 1 0 1 0 1 0 0 0 0 1 1 1 1 0 0 0 1 0 1 1 1 0 0 1 1 0 1 1 1 1 1 1 0 1 1\n",
      " 1 1 1 0 0 0 1 1 0 0 0 1 0 0 0 1 0 1 1 1 1 0 0 1 0 1 1 0 1 0 0 1 0 0 1 1 0\n",
      " 1 1 1 0 1 0 1 0 0 1 0 1 1 1 1 1 1 1 0 1 1 0 0 0 0 1 1 0 0 1 1 1 0 0 0 1 1\n",
      " 0 0 0 0 1 1 1 1 0 0 0 0 1 1 0 0 1 1 1 1 1 0 1 0 1 1 0 1 1 1 0 1 0 1 1 1 1\n",
      " 1 0 1 0 1 0 1 1 1 1 0 1 0 0 0 1 0 0 0 1 1 1 0 0 0 0 0 0 0 1 1 1 0 0 1 1 1\n",
      " 0 1 1 0 1 1 1 1 1 1 0 0 0 1 0 1 0 1 1 0 1 0 1 0 0 1 1 0 0 0 0 1 1 1 0 0 0\n",
      " 1 0 0 0]\n",
      "[1. 1. 1. 1. 0. 1. 1. 1. 1. 0. 1. 0. 1. 1. 1. 1. 0. 1. 1. 0. 1. 0. 0. 1.\n",
      " 0. 0. 0. 1. 1. 1. 0. 0. 1. 0. 0. 0. 1. 1. 1. 0. 0. 0. 0. 1. 0. 0. 1. 1.\n",
      " 0. 1. 1. 1. 0. 1. 0. 0. 1. 0. 0. 1. 0. 0. 1. 0. 1. 1. 1. 1. 0. 1. 0. 0.\n",
      " 1. 1. 0. 0. 1. 0. 1. 0. 1. 0. 0. 0. 0. 1. 1. 1. 1. 0. 0. 0. 1. 0. 1. 0.\n",
      " 1. 0. 0. 1. 1. 0. 1. 0. 1. 1. 1. 1. 0. 1. 1. 1. 1. 1. 0. 0. 0. 1. 1. 0.\n",
      " 1. 0. 1. 0. 0. 1. 1. 0. 1. 1. 1. 1. 0. 1. 1. 0. 0. 0. 0. 0. 0. 0. 1. 0.\n",
      " 1. 1. 1. 0. 1. 0. 1. 0. 1. 0. 1. 0. 0. 1. 0. 1. 1. 1. 1. 1. 1. 1. 0. 1.\n",
      " 0. 0. 0. 0. 0. 1. 0. 0. 0. 0. 1. 1. 0. 1. 0. 1. 1. 0. 0. 0. 1. 1. 1. 1.\n",
      " 1. 0. 0. 0. 0. 0. 1. 0. 0. 1. 1. 1. 1. 1. 0. 1. 0. 1. 0. 0. 1. 1. 1. 0.\n",
      " 1. 0. 1. 1. 0. 1. 1. 0. 1. 0. 1. 0. 1. 1. 0. 1. 0. 1. 0. 0. 0. 1. 0. 0.\n",
      " 0. 0. 1. 1. 0. 0. 0. 0. 0. 0. 0. 1. 1. 1. 0. 0. 1. 1. 1. 0. 1. 0. 0. 0.\n",
      " 0. 1. 1. 0. 1. 0. 0. 0. 1. 0. 1. 0. 0. 1. 0. 1. 1. 1. 0. 0. 0. 1. 0. 0.\n",
      " 0. 1. 1. 1. 1. 0. 0. 0. 1. 0. 0. 0.]\n",
      "Précision du classifieur de Bayes sur les nouvelles données :  0.89\n"
     ]
    }
   ],
   "source": [
    "#test de modéle  sur des nouvelles données\n",
    "\n",
    "mu0, sigma0 = -1, 1\n",
    "mu1, sigma1 = 1, 1\n",
    "\n",
    "X_new_class0 = np.random.normal(mu0, sigma0, 500)\n",
    "X_new_class1 = np.random.normal(mu1, sigma1, 500)\n",
    "\n",
    "X_new = np.concatenate([X_new_class0, X_new_class1])\n",
    "Y_new = np.concatenate([np.zeros(500), np.ones(500)])\n",
    "\n",
    "X_train1, X_test1, Y_train1, Y_test1 = train_test_split(X_new, Y_new, test_size=0.3, random_state=42)\n",
    "\n",
    "Y_pred_new = np.array([bayes_classifier(x) for x in X_test1])\n",
    "print(Y_pred_new)\n",
    "print(Y_test1)\n",
    "accuracy1 = accuracy_score(Y_test1, Y_pred_new)\n",
    "print(\"Précision du classifieur de Bayes sur les nouvelles données : \", accuracy1)\n"
   ]
  }
 ],
 "metadata": {
  "kernelspec": {
   "display_name": "base",
   "language": "python",
   "name": "python3"
  },
  "language_info": {
   "codemirror_mode": {
    "name": "ipython",
    "version": 3
   },
   "file_extension": ".py",
   "mimetype": "text/x-python",
   "name": "python",
   "nbconvert_exporter": "python",
   "pygments_lexer": "ipython3",
   "version": "3.9.12"
  }
 },
 "nbformat": 4,
 "nbformat_minor": 2
}
